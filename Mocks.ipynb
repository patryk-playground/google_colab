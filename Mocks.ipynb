{
  "nbformat": 4,
  "nbformat_minor": 0,
  "metadata": {
    "colab": {
      "name": "Mocks",
      "provenance": [],
      "collapsed_sections": [],
      "authorship_tag": "ABX9TyOS7xQuKgnNl3NuQQrRUtGm",
      "include_colab_link": true
    },
    "kernelspec": {
      "name": "python3",
      "display_name": "Python 3"
    },
    "language_info": {
      "name": "python"
    }
  },
  "cells": [
    {
      "cell_type": "markdown",
      "metadata": {
        "id": "view-in-github",
        "colab_type": "text"
      },
      "source": [
        "<a href=\"https://colab.research.google.com/github/patryk-playground/google_colab/blob/main/Mocks.ipynb\" target=\"_parent\"><img src=\"https://colab.research.google.com/assets/colab-badge.svg\" alt=\"Open In Colab\"/></a>"
      ]
    },
    {
      "cell_type": "code",
      "execution_count": null,
      "metadata": {
        "id": "7TuRQQ4X00Zl"
      },
      "outputs": [],
      "source": [
        "from unittest.mock import Mock"
      ]
    },
    {
      "cell_type": "code",
      "source": [
        "mock = Mock(a=2, b=3)\n",
        "mock"
      ],
      "metadata": {
        "colab": {
          "base_uri": "https://localhost:8080/"
        },
        "id": "hYlOvpWp0_-R",
        "outputId": "8004aa37-7349-4683-fa84-75950c1be903"
      },
      "execution_count": null,
      "outputs": [
        {
          "output_type": "execute_result",
          "data": {
            "text/plain": [
              "<Mock id='139748190986704'>"
            ]
          },
          "metadata": {},
          "execution_count": 16
        }
      ]
    },
    {
      "cell_type": "code",
      "source": [
        "mock.b"
      ],
      "metadata": {
        "colab": {
          "base_uri": "https://localhost:8080/"
        },
        "id": "w8pVjy7-1rLL",
        "outputId": "9be72ab7-b512-4960-eca9-2e753270a5da"
      },
      "execution_count": null,
      "outputs": [
        {
          "output_type": "execute_result",
          "data": {
            "text/plain": [
              "3"
            ]
          },
          "metadata": {},
          "execution_count": 17
        }
      ]
    },
    {
      "cell_type": "code",
      "source": [
        ""
      ],
      "metadata": {
        "id": "-u0CB9D91uVy"
      },
      "execution_count": null,
      "outputs": []
    },
    {
      "cell_type": "markdown",
      "source": [
        "# Patching classes"
      ],
      "metadata": {
        "id": "tf1CFFfI3FB3"
      }
    },
    {
      "cell_type": "code",
      "source": [
        "def get_user_name(user, session):\n",
        "  \"\"\" Get a username from Github \"\"\"\n",
        "  url = f\"https://api.github.com/users/{user}\"\n",
        "  response = session.get(url)\n",
        "  json_response = response.json()\n",
        "  return json_response[\"name\"]"
      ],
      "metadata": {
        "id": "VhISeFA83PFz"
      },
      "execution_count": null,
      "outputs": []
    },
    {
      "cell_type": "code",
      "source": [
        "class FakeSession:\n",
        "  def get(self, url):\n",
        "    return FakeResponse\n",
        "\n",
        "class FakeResponse:\n",
        "  def json(self):\n",
        "    return {\"name\": \"Johnny Walker\"}\n",
        "\n",
        "fake_session = FakeSession()"
      ],
      "metadata": {
        "id": "6TTod8bN32Gh"
      },
      "execution_count": null,
      "outputs": []
    },
    {
      "cell_type": "code",
      "source": [
        "from unittest.mock import Mock\n",
        "\n",
        "fake_response = Mock()\n",
        "fake_response.json = Mock(return_value={\"name\": \"Johnny Walker\"})\n",
        "\n",
        "fake_session = Mock()\n",
        "fake_session.get = Mock(return_value=fake_response)"
      ],
      "metadata": {
        "id": "JyeGeACs4Jun"
      },
      "execution_count": null,
      "outputs": []
    },
    {
      "cell_type": "code",
      "source": [
        "assert 'Johnny Walker' == get_user_name(\"johnt\", fake_session)"
      ],
      "metadata": {
        "id": "rDt2JjER4k-f"
      },
      "execution_count": null,
      "outputs": []
    },
    {
      "cell_type": "code",
      "source": [
        "fake_session.get().json()"
      ],
      "metadata": {
        "colab": {
          "base_uri": "https://localhost:8080/"
        },
        "id": "psugGtkb5aHP",
        "outputId": "4954aa63-65c4-494c-9f13-cb2c684056b7"
      },
      "execution_count": null,
      "outputs": [
        {
          "output_type": "execute_result",
          "data": {
            "text/plain": [
              "{'name': 'Johnny Walker'}"
            ]
          },
          "metadata": {},
          "execution_count": 11
        }
      ]
    },
    {
      "cell_type": "code",
      "source": [
        "fake_session.attributeX.methodY()"
      ],
      "metadata": {
        "colab": {
          "base_uri": "https://localhost:8080/"
        },
        "id": "-crdSacy5fo7",
        "outputId": "fbc9b8f7-1bc0-40a4-bd23-beb45d9061f0"
      },
      "execution_count": null,
      "outputs": [
        {
          "output_type": "execute_result",
          "data": {
            "text/plain": [
              "<Mock name='mock.attributeX.methodY()' id='140136144340368'>"
            ]
          },
          "metadata": {},
          "execution_count": 12
        }
      ]
    },
    {
      "cell_type": "markdown",
      "source": [
        "## Mock with kwargs"
      ],
      "metadata": {
        "id": "tsbqbGsq6Bbj"
      }
    },
    {
      "cell_type": "code",
      "source": [
        "response_payload = {\"name\": \"Johnny\"}\n",
        "fake_session = Mock(**{\"get.return_value.json.return_value\": response_payload})\n"
      ],
      "metadata": {
        "id": "flPlgEwA5m3-"
      },
      "execution_count": null,
      "outputs": []
    },
    {
      "cell_type": "markdown",
      "source": [
        "## Mock with \".\" notation"
      ],
      "metadata": {
        "id": "_-9Od48I6M84"
      }
    },
    {
      "cell_type": "code",
      "source": [
        "fake_session.get.return_value.json.return_value = response_payload\n",
        "fake_session.get().json()"
      ],
      "metadata": {
        "colab": {
          "base_uri": "https://localhost:8080/"
        },
        "id": "s_RKfbm05_el",
        "outputId": "29b724d6-7313-44b9-c7c3-00272de114cc"
      },
      "execution_count": null,
      "outputs": [
        {
          "output_type": "execute_result",
          "data": {
            "text/plain": [
              "{'name': 'Johnny'}"
            ]
          },
          "metadata": {},
          "execution_count": 14
        }
      ]
    },
    {
      "cell_type": "markdown",
      "source": [
        "# MagicMock"
      ],
      "metadata": {
        "id": "bIA9QHzJ6Zfy"
      }
    },
    {
      "cell_type": "code",
      "source": [
        "from unittest.mock import Mock, MagicMock\n",
        "\n",
        "m = Mock()\n",
        "mm = MagicMock()"
      ],
      "metadata": {
        "id": "FQglKeI_6cC8"
      },
      "execution_count": null,
      "outputs": []
    },
    {
      "cell_type": "code",
      "source": [
        "m[123]"
      ],
      "metadata": {
        "colab": {
          "base_uri": "https://localhost:8080/",
          "height": 167
        },
        "id": "LP8JrEcG6mHJ",
        "outputId": "458e1d34-a97b-4782-931b-3c960018988f"
      },
      "execution_count": null,
      "outputs": [
        {
          "output_type": "error",
          "ename": "TypeError",
          "evalue": "ignored",
          "traceback": [
            "\u001b[0;31m---------------------------------------------------------------------------\u001b[0m",
            "\u001b[0;31mTypeError\u001b[0m                                 Traceback (most recent call last)",
            "\u001b[0;32m<ipython-input-16-c06b462b432b>\u001b[0m in \u001b[0;36m<module>\u001b[0;34m()\u001b[0m\n\u001b[0;32m----> 1\u001b[0;31m \u001b[0mm\u001b[0m\u001b[0;34m[\u001b[0m\u001b[0;36m123\u001b[0m\u001b[0;34m]\u001b[0m\u001b[0;34m\u001b[0m\u001b[0;34m\u001b[0m\u001b[0m\n\u001b[0m",
            "\u001b[0;31mTypeError\u001b[0m: 'Mock' object is not subscriptable"
          ]
        }
      ]
    },
    {
      "cell_type": "code",
      "source": [
        "mm[123]"
      ],
      "metadata": {
        "colab": {
          "base_uri": "https://localhost:8080/"
        },
        "id": "yFu4LwEu6qZo",
        "outputId": "94fff6b7-306f-4dfb-df1c-1940665f2150"
      },
      "execution_count": null,
      "outputs": [
        {
          "output_type": "execute_result",
          "data": {
            "text/plain": [
              "<MagicMock name='mock.__getitem__()' id='140136143691664'>"
            ]
          },
          "metadata": {},
          "execution_count": 17
        }
      ]
    },
    {
      "cell_type": "code",
      "source": [
        "mm + 1"
      ],
      "metadata": {
        "colab": {
          "base_uri": "https://localhost:8080/"
        },
        "id": "X-6OQfkL6ssB",
        "outputId": "7a1e0bab-f13d-4b75-d825-e0da10c580f9"
      },
      "execution_count": null,
      "outputs": [
        {
          "output_type": "execute_result",
          "data": {
            "text/plain": [
              "<MagicMock name='mock.__add__()' id='140136143743760'>"
            ]
          },
          "metadata": {},
          "execution_count": 18
        }
      ]
    },
    {
      "cell_type": "code",
      "source": [
        "mm.attributeX.methodY() + 1"
      ],
      "metadata": {
        "colab": {
          "base_uri": "https://localhost:8080/"
        },
        "id": "Z7mENMs66wzv",
        "outputId": "de666673-9cbb-49b2-843b-075e79ebdbce"
      },
      "execution_count": null,
      "outputs": [
        {
          "output_type": "execute_result",
          "data": {
            "text/plain": [
              "<MagicMock name='mock.attributeX.methodY().__add__()' id='140136119295632'>"
            ]
          },
          "metadata": {},
          "execution_count": 19
        }
      ]
    },
    {
      "cell_type": "code",
      "source": [
        "mm.attributeX.methodY() / 1"
      ],
      "metadata": {
        "colab": {
          "base_uri": "https://localhost:8080/"
        },
        "id": "r-6AW3Y9617E",
        "outputId": "fdd84e42-d77a-437b-ce9f-6eee16c25f7c"
      },
      "execution_count": null,
      "outputs": [
        {
          "output_type": "execute_result",
          "data": {
            "text/plain": [
              "<MagicMock name='mock.attributeX.methodY().__truediv__()' id='140136112953488'>"
            ]
          },
          "metadata": {},
          "execution_count": 20
        }
      ]
    },
    {
      "cell_type": "markdown",
      "source": [
        "# Mock - call validation"
      ],
      "metadata": {
        "id": "wId1NqX66_Js"
      }
    },
    {
      "cell_type": "code",
      "source": [
        "from unittest.mock import Mock, ANY\n",
        "\n",
        "m = Mock()\n",
        "\n",
        "m(1)\n",
        "m(1,2,3)\n",
        "m(2,3,4, status=True)"
      ],
      "metadata": {
        "colab": {
          "base_uri": "https://localhost:8080/"
        },
        "id": "cZoK5LloDWsS",
        "outputId": "ca7d543e-7540-4c9f-de1f-50b863944774"
      },
      "execution_count": null,
      "outputs": [
        {
          "output_type": "execute_result",
          "data": {
            "text/plain": [
              "<Mock name='mock()' id='140136119319376'>"
            ]
          },
          "metadata": {},
          "execution_count": 24
        }
      ]
    },
    {
      "cell_type": "code",
      "source": [
        "m.assert_called_with(2,3,4, status=True)"
      ],
      "metadata": {
        "id": "u21tNKLUDheu"
      },
      "execution_count": null,
      "outputs": []
    },
    {
      "cell_type": "code",
      "source": [
        "m.assert_any_call(2,3, ANY, status=ANY)"
      ],
      "metadata": {
        "id": "gmuEsBpbDuIJ"
      },
      "execution_count": null,
      "outputs": []
    },
    {
      "cell_type": "code",
      "source": [
        "m.call_count"
      ],
      "metadata": {
        "colab": {
          "base_uri": "https://localhost:8080/"
        },
        "id": "avlTgldJD5a4",
        "outputId": "812cebcf-00fd-4d2a-99b0-e6b291398de9"
      },
      "execution_count": null,
      "outputs": [
        {
          "output_type": "execute_result",
          "data": {
            "text/plain": [
              "3"
            ]
          },
          "metadata": {},
          "execution_count": 27
        }
      ]
    },
    {
      "cell_type": "code",
      "source": [
        "args, kwargs = m.call_args\n",
        "args, kwargs"
      ],
      "metadata": {
        "colab": {
          "base_uri": "https://localhost:8080/"
        },
        "id": "jFw6kUAMD8T0",
        "outputId": "d5b53385-dbb5-4acd-f9b8-3c7e031692bd"
      },
      "execution_count": null,
      "outputs": [
        {
          "output_type": "execute_result",
          "data": {
            "text/plain": [
              "((2, 3, 4), {'status': True})"
            ]
          },
          "metadata": {},
          "execution_count": 30
        }
      ]
    },
    {
      "cell_type": "code",
      "source": [
        "m.call_args_list"
      ],
      "metadata": {
        "colab": {
          "base_uri": "https://localhost:8080/"
        },
        "id": "4So2mT10D8aa",
        "outputId": "cb8f7c8d-7c78-4340-e714-62e1927f4b45"
      },
      "execution_count": null,
      "outputs": [
        {
          "output_type": "execute_result",
          "data": {
            "text/plain": [
              "[call(1), call(1, 2, 3), call(2, 3, 4, status=True)]"
            ]
          },
          "metadata": {},
          "execution_count": 32
        }
      ]
    },
    {
      "cell_type": "code",
      "source": [
        "m.called"
      ],
      "metadata": {
        "colab": {
          "base_uri": "https://localhost:8080/"
        },
        "id": "GWpgfX_dELmx",
        "outputId": "7ccd2b57-73d0-47c6-d2de-6b6dfc4360c4"
      },
      "execution_count": null,
      "outputs": [
        {
          "output_type": "execute_result",
          "data": {
            "text/plain": [
              "True"
            ]
          },
          "metadata": {},
          "execution_count": 33
        }
      ]
    }
  ]
}
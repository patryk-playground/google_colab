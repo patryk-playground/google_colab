{
  "nbformat": 4,
  "nbformat_minor": 0,
  "metadata": {
    "colab": {
      "name": "environment.ipynb",
      "provenance": [],
      "authorship_tag": "ABX9TyPyA6jQA9+WjzRrEI6QwDHu",
      "include_colab_link": true
    },
    "kernelspec": {
      "name": "python3",
      "display_name": "Python 3"
    },
    "language_info": {
      "name": "python"
    }
  },
  "cells": [
    {
      "cell_type": "markdown",
      "metadata": {
        "id": "view-in-github",
        "colab_type": "text"
      },
      "source": [
        "<a href=\"https://colab.research.google.com/github/patryk-playground/google_colab/blob/main/environment.ipynb\" target=\"_parent\"><img src=\"https://colab.research.google.com/assets/colab-badge.svg\" alt=\"Open In Colab\"/></a>"
      ]
    },
    {
      "cell_type": "markdown",
      "source": [
        "## Google colab environment check"
      ],
      "metadata": {
        "id": "DEE5tTJj26Gu"
      }
    },
    {
      "cell_type": "code",
      "source": [
        "from shutil import which\n",
        "from subprocess import check_output\n",
        "\n",
        "def run(cmd):\n",
        "  return check_output(cmd.split(), text=True)\n",
        "\n",
        "for item in ['pip', 'poetry', 'pipenv', 'python']:\n",
        "  path = which(item)\n",
        "  if path:\n",
        "    print(f\"Path to {item} : {path}\")\n",
        "    output = run(f\"{path} --version\")\n",
        "    print(output)"
      ],
      "metadata": {
        "colab": {
          "base_uri": "https://localhost:8080/"
        },
        "id": "PAur3eW229fI",
        "outputId": "98b7dc5a-9840-4608-b94f-af47c1fba92a"
      },
      "execution_count": 1,
      "outputs": [
        {
          "output_type": "stream",
          "name": "stdout",
          "text": [
            "Path to pip : /usr/local/bin/pip\n",
            "pip 21.1.3 from /usr/local/lib/python3.7/dist-packages/pip (python 3.7)\n",
            "\n",
            "Path to python : /usr/local/bin/python\n",
            "Python 3.7.12\n",
            "\n"
          ]
        }
      ]
    },
    {
      "cell_type": "code",
      "source": [
        "# Installed packages\n",
        "run(\"pip list\").split(\"\\n\")"
      ],
      "metadata": {
        "colab": {
          "base_uri": "https://localhost:8080/"
        },
        "id": "MdNlzy213D8-",
        "outputId": "71986af9-d514-438d-8d96-6a395aaa7230"
      },
      "execution_count": 2,
      "outputs": [
        {
          "output_type": "execute_result",
          "data": {
            "text/plain": [
              "['Package                       Version',\n",
              " '----------------------------- --------------',\n",
              " 'absl-py                       1.0.0',\n",
              " 'alabaster                     0.7.12',\n",
              " 'albumentations                0.1.12',\n",
              " 'altair                        4.2.0',\n",
              " 'appdirs                       1.4.4',\n",
              " 'argon2-cffi                   21.3.0',\n",
              " 'argon2-cffi-bindings          21.2.0',\n",
              " 'arviz                         0.11.4',\n",
              " 'astor                         0.8.1',\n",
              " 'astropy                       4.3.1',\n",
              " 'astunparse                    1.6.3',\n",
              " 'atari-py                      0.2.9',\n",
              " 'atomicwrites                  1.4.0',\n",
              " 'attrs                         21.4.0',\n",
              " 'audioread                     2.1.9',\n",
              " 'autograd                      1.3',\n",
              " 'Babel                         2.9.1',\n",
              " 'backcall                      0.2.0',\n",
              " 'beautifulsoup4                4.6.3',\n",
              " 'bleach                        4.1.0',\n",
              " 'blis                          0.4.1',\n",
              " 'bokeh                         2.3.3',\n",
              " 'Bottleneck                    1.3.2',\n",
              " 'branca                        0.4.2',\n",
              " 'bs4                           0.0.1',\n",
              " 'CacheControl                  0.12.10',\n",
              " 'cached-property               1.5.2',\n",
              " 'cachetools                    4.2.4',\n",
              " 'catalogue                     1.0.0',\n",
              " 'certifi                       2021.10.8',\n",
              " 'cffi                          1.15.0',\n",
              " 'cftime                        1.5.2',\n",
              " 'chardet                       3.0.4',\n",
              " 'charset-normalizer            2.0.11',\n",
              " 'click                         7.1.2',\n",
              " 'cloudpickle                   1.3.0',\n",
              " 'cmake                         3.12.0',\n",
              " 'cmdstanpy                     0.9.5',\n",
              " 'colorcet                      3.0.0',\n",
              " 'colorlover                    0.3.0',\n",
              " 'community                     1.0.0b1',\n",
              " 'contextlib2                   0.5.5',\n",
              " 'convertdate                   2.4.0',\n",
              " 'coverage                      3.7.1',\n",
              " 'coveralls                     0.5',\n",
              " 'crcmod                        1.7',\n",
              " 'cufflinks                     0.17.3',\n",
              " 'cvxopt                        1.2.7',\n",
              " 'cvxpy                         1.0.31',\n",
              " 'cycler                        0.11.0',\n",
              " 'cymem                         2.0.6',\n",
              " 'Cython                        0.29.26',\n",
              " 'daft                          0.0.4',\n",
              " 'dask                          2.12.0',\n",
              " 'datascience                   0.10.6',\n",
              " 'debugpy                       1.0.0',\n",
              " 'decorator                     4.4.2',\n",
              " 'defusedxml                    0.7.1',\n",
              " 'descartes                     1.1.0',\n",
              " 'dill                          0.3.4',\n",
              " 'distributed                   1.25.3',\n",
              " 'dlib                          19.18.0',\n",
              " 'dm-tree                       0.1.6',\n",
              " 'docopt                        0.6.2',\n",
              " 'docutils                      0.17.1',\n",
              " 'dopamine-rl                   1.0.5',\n",
              " 'earthengine-api               0.1.296',\n",
              " 'easydict                      1.9',\n",
              " 'ecos                          2.0.10',\n",
              " 'editdistance                  0.5.3',\n",
              " 'en-core-web-sm                2.2.5',\n",
              " 'entrypoints                   0.3',\n",
              " 'ephem                         4.1.3',\n",
              " 'et-xmlfile                    1.1.0',\n",
              " 'fa2                           0.3.5',\n",
              " 'fastai                        1.0.61',\n",
              " 'fastdtw                       0.3.4',\n",
              " 'fastprogress                  1.0.0',\n",
              " 'fastrlock                     0.8',\n",
              " 'fbprophet                     0.7.1',\n",
              " 'feather-format                0.4.1',\n",
              " 'filelock                      3.4.2',\n",
              " 'firebase-admin                4.4.0',\n",
              " 'fix-yahoo-finance             0.0.22',\n",
              " 'Flask                         1.1.4',\n",
              " 'flatbuffers                   2.0',\n",
              " 'folium                        0.8.3',\n",
              " 'future                        0.16.0',\n",
              " 'gast                          0.4.0',\n",
              " 'GDAL                          2.2.2',\n",
              " 'gdown                         4.2.0',\n",
              " 'gensim                        3.6.0',\n",
              " 'geographiclib                 1.52',\n",
              " 'geopy                         1.17.0',\n",
              " 'gin-config                    0.5.0',\n",
              " 'glob2                         0.7',\n",
              " 'google                        2.0.3',\n",
              " 'google-api-core               1.26.3',\n",
              " 'google-api-python-client      1.12.10',\n",
              " 'google-auth                   1.35.0',\n",
              " 'google-auth-httplib2          0.0.4',\n",
              " 'google-auth-oauthlib          0.4.6',\n",
              " 'google-cloud-bigquery         1.21.0',\n",
              " 'google-cloud-bigquery-storage 1.1.0',\n",
              " 'google-cloud-core             1.0.3',\n",
              " 'google-cloud-datastore        1.8.0',\n",
              " 'google-cloud-firestore        1.7.0',\n",
              " 'google-cloud-language         1.2.0',\n",
              " 'google-cloud-storage          1.18.1',\n",
              " 'google-cloud-translate        1.5.0',\n",
              " 'google-colab                  1.0.0',\n",
              " 'google-pasta                  0.2.0',\n",
              " 'google-resumable-media        0.4.1',\n",
              " 'googleapis-common-protos      1.54.0',\n",
              " 'googledrivedownloader         0.4',\n",
              " 'graphviz                      0.10.1',\n",
              " 'greenlet                      1.1.2',\n",
              " 'grpcio                        1.43.0',\n",
              " 'gspread                       3.4.2',\n",
              " 'gspread-dataframe             3.0.8',\n",
              " 'gym                           0.17.3',\n",
              " 'h5py                          3.1.0',\n",
              " 'HeapDict                      1.0.1',\n",
              " 'hijri-converter               2.2.2',\n",
              " 'holidays                      0.10.5.2',\n",
              " 'holoviews                     1.14.7',\n",
              " 'html5lib                      1.0.1',\n",
              " 'httpimport                    0.5.18',\n",
              " 'httplib2                      0.17.4',\n",
              " 'httplib2shim                  0.0.3',\n",
              " 'humanize                      0.5.1',\n",
              " 'hyperopt                      0.1.2',\n",
              " 'ideep4py                      2.0.0.post3',\n",
              " 'idna                          2.10',\n",
              " 'imageio                       2.4.1',\n",
              " 'imagesize                     1.3.0',\n",
              " 'imbalanced-learn              0.8.1',\n",
              " 'imblearn                      0.0',\n",
              " 'imgaug                        0.2.9',\n",
              " 'importlib-metadata            4.10.1',\n",
              " 'importlib-resources           5.4.0',\n",
              " 'imutils                       0.5.4',\n",
              " 'inflect                       2.1.0',\n",
              " 'iniconfig                     1.1.1',\n",
              " 'intel-openmp                  2022.0.2',\n",
              " 'intervaltree                  2.1.0',\n",
              " 'ipykernel                     4.10.1',\n",
              " 'ipython                       5.5.0',\n",
              " 'ipython-genutils              0.2.0',\n",
              " 'ipython-sql                   0.3.9',\n",
              " 'ipywidgets                    7.6.5',\n",
              " 'itsdangerous                  1.1.0',\n",
              " 'jax                           0.2.25',\n",
              " 'jaxlib                        0.1.71+cuda111',\n",
              " 'jdcal                         1.4.1',\n",
              " 'jedi                          0.18.1',\n",
              " 'jieba                         0.42.1',\n",
              " 'Jinja2                        2.11.3',\n",
              " 'joblib                        1.1.0',\n",
              " 'jpeg4py                       0.1.4',\n",
              " 'jsonschema                    4.3.3',\n",
              " 'jupyter                       1.0.0',\n",
              " 'jupyter-client                5.3.5',\n",
              " 'jupyter-console               5.2.0',\n",
              " 'jupyter-core                  4.9.1',\n",
              " 'jupyterlab-pygments           0.1.2',\n",
              " 'jupyterlab-widgets            1.0.2',\n",
              " 'kaggle                        1.5.12',\n",
              " 'kapre                         0.3.7',\n",
              " 'keras                         2.7.0',\n",
              " 'Keras-Preprocessing           1.1.2',\n",
              " 'keras-vis                     0.4.1',\n",
              " 'kiwisolver                    1.3.2',\n",
              " 'korean-lunar-calendar         0.2.1',\n",
              " 'libclang                      13.0.0',\n",
              " 'librosa                       0.8.1',\n",
              " 'lightgbm                      2.2.3',\n",
              " 'llvmlite                      0.34.0',\n",
              " 'lmdb                          0.99',\n",
              " 'LunarCalendar                 0.0.9',\n",
              " 'lxml                          4.2.6',\n",
              " 'Markdown                      3.3.6',\n",
              " 'MarkupSafe                    2.0.1',\n",
              " 'matplotlib                    3.2.2',\n",
              " 'matplotlib-inline             0.1.3',\n",
              " 'matplotlib-venn               0.11.6',\n",
              " 'missingno                     0.5.0',\n",
              " 'mistune                       0.8.4',\n",
              " 'mizani                        0.6.0',\n",
              " 'mkl                           2019.0',\n",
              " 'mlxtend                       0.14.0',\n",
              " 'more-itertools                8.12.0',\n",
              " 'moviepy                       0.2.3.5',\n",
              " 'mpmath                        1.2.1',\n",
              " 'msgpack                       1.0.3',\n",
              " 'multiprocess                  0.70.12.2',\n",
              " 'multitasking                  0.0.10',\n",
              " 'murmurhash                    1.0.6',\n",
              " 'music21                       5.5.0',\n",
              " 'natsort                       5.5.0',\n",
              " 'nbclient                      0.5.10',\n",
              " 'nbconvert                     5.6.1',\n",
              " 'nbformat                      5.1.3',\n",
              " 'nest-asyncio                  1.5.4',\n",
              " 'netCDF4                       1.5.8',\n",
              " 'networkx                      2.6.3',\n",
              " 'nibabel                       3.0.2',\n",
              " 'nltk                          3.2.5',\n",
              " 'notebook                      5.3.1',\n",
              " 'numba                         0.51.2',\n",
              " 'numexpr                       2.8.1',\n",
              " 'numpy                         1.19.5',\n",
              " 'nvidia-ml-py3                 7.352.0',\n",
              " 'oauth2client                  4.1.3',\n",
              " 'oauthlib                      3.1.1',\n",
              " 'okgrade                       0.4.3',\n",
              " 'opencv-contrib-python         4.1.2.30',\n",
              " 'opencv-python                 4.1.2.30',\n",
              " 'openpyxl                      2.5.9',\n",
              " 'opt-einsum                    3.3.0',\n",
              " 'osqp                          0.6.2.post0',\n",
              " 'packaging                     21.3',\n",
              " 'palettable                    3.3.0',\n",
              " 'pandas                        1.3.5',\n",
              " 'pandas-datareader             0.9.0',\n",
              " 'pandas-gbq                    0.13.3',\n",
              " 'pandas-profiling              1.4.1',\n",
              " 'pandocfilters                 1.5.0',\n",
              " 'panel                         0.12.1',\n",
              " 'param                         1.12.0',\n",
              " 'parso                         0.8.3',\n",
              " 'pathlib                       1.0.1',\n",
              " 'patsy                         0.5.2',\n",
              " 'pep517                        0.12.0',\n",
              " 'pexpect                       4.8.0',\n",
              " 'pickleshare                   0.7.5',\n",
              " 'Pillow                        7.1.2',\n",
              " 'pip                           21.1.3',\n",
              " 'pip-tools                     6.2.0',\n",
              " 'plac                          1.1.3',\n",
              " 'plotly                        5.5.0',\n",
              " 'plotnine                      0.6.0',\n",
              " 'pluggy                        0.7.1',\n",
              " 'pooch                         1.6.0',\n",
              " 'portpicker                    1.3.9',\n",
              " 'prefetch-generator            1.0.1',\n",
              " 'preshed                       3.0.6',\n",
              " 'prettytable                   3.0.0',\n",
              " 'progressbar2                  3.38.0',\n",
              " 'prometheus-client             0.13.1',\n",
              " 'promise                       2.3',\n",
              " 'prompt-toolkit                1.0.18',\n",
              " 'protobuf                      3.17.3',\n",
              " 'psutil                        5.4.8',\n",
              " 'psycopg2                      2.7.6.1',\n",
              " 'ptyprocess                    0.7.0',\n",
              " 'py                            1.11.0',\n",
              " 'pyarrow                       3.0.0',\n",
              " 'pyasn1                        0.4.8',\n",
              " 'pyasn1-modules                0.2.8',\n",
              " 'pycocotools                   2.0.4',\n",
              " 'pycparser                     2.21',\n",
              " 'pyct                          0.4.8',\n",
              " 'pydata-google-auth            1.3.0',\n",
              " 'pydot                         1.3.0',\n",
              " 'pydot-ng                      2.0.0',\n",
              " 'pydotplus                     2.0.2',\n",
              " 'PyDrive                       1.3.1',\n",
              " 'pyemd                         0.5.1',\n",
              " 'pyerfa                        2.0.0.1',\n",
              " 'pyglet                        1.5.0',\n",
              " 'Pygments                      2.6.1',\n",
              " 'pygobject                     3.26.1',\n",
              " 'pymc3                         3.11.4',\n",
              " 'PyMeeus                       0.5.11',\n",
              " 'pymongo                       4.0.1',\n",
              " 'pymystem3                     0.2.0',\n",
              " 'PyOpenGL                      3.1.5',\n",
              " 'pyparsing                     3.0.7',\n",
              " 'pyrsistent                    0.18.1',\n",
              " 'pysndfile                     1.3.8',\n",
              " 'PySocks                       1.7.1',\n",
              " 'pystan                        2.19.1.1',\n",
              " 'pytest                        3.6.4',\n",
              " 'python-apt                    0.0.0',\n",
              " 'python-chess                  0.23.11',\n",
              " 'python-dateutil               2.8.2',\n",
              " 'python-louvain                0.15',\n",
              " 'python-slugify                5.0.2',\n",
              " 'python-utils                  3.1.0',\n",
              " 'pytz                          2018.9',\n",
              " 'pyviz-comms                   2.1.0',\n",
              " 'PyWavelets                    1.2.0',\n",
              " 'PyYAML                        3.13',\n",
              " 'pyzmq                         22.3.0',\n",
              " 'qdldl                         0.1.5.post0',\n",
              " 'qtconsole                     5.2.2',\n",
              " 'QtPy                          2.0.0',\n",
              " 'regex                         2019.12.20',\n",
              " 'requests                      2.23.0',\n",
              " 'requests-oauthlib             1.3.0',\n",
              " 'resampy                       0.2.2',\n",
              " 'rpy2                          3.4.5',\n",
              " 'rsa                           4.8',\n",
              " 'scikit-image                  0.18.3',\n",
              " 'scikit-learn                  1.0.2',\n",
              " 'scipy                         1.4.1',\n",
              " 'screen-resolution-extra       0.0.0',\n",
              " 'scs                           3.1.0',\n",
              " 'seaborn                       0.11.2',\n",
              " 'semver                        2.13.0',\n",
              " 'Send2Trash                    1.8.0',\n",
              " 'setuptools                    57.4.0',\n",
              " 'setuptools-git                1.2',\n",
              " 'Shapely                       1.8.0',\n",
              " 'simplegeneric                 0.8.1',\n",
              " 'six                           1.15.0',\n",
              " 'sklearn                       0.0',\n",
              " 'sklearn-pandas                1.8.0',\n",
              " 'smart-open                    5.2.1',\n",
              " 'snowballstemmer               2.2.0',\n",
              " 'sortedcontainers              2.4.0',\n",
              " 'SoundFile                     0.10.3.post1',\n",
              " 'spacy                         2.2.4',\n",
              " 'Sphinx                        1.8.6',\n",
              " 'sphinxcontrib-serializinghtml 1.1.5',\n",
              " 'sphinxcontrib-websupport      1.2.4',\n",
              " 'SQLAlchemy                    1.4.31',\n",
              " 'sqlparse                      0.4.2',\n",
              " 'srsly                         1.0.5',\n",
              " 'statsmodels                   0.10.2',\n",
              " 'sympy                         1.7.1',\n",
              " 'tables                        3.4.4',\n",
              " 'tabulate                      0.8.9',\n",
              " 'tblib                         1.7.0',\n",
              " 'tenacity                      8.0.1',\n",
              " 'tensorboard                   2.7.0',\n",
              " 'tensorboard-data-server       0.6.1',\n",
              " 'tensorboard-plugin-wit        1.8.1',\n",
              " 'tensorflow                    2.7.0',\n",
              " 'tensorflow-datasets           4.0.1',\n",
              " 'tensorflow-estimator          2.7.0',\n",
              " 'tensorflow-gcs-config         2.7.0',\n",
              " 'tensorflow-hub                0.12.0',\n",
              " 'tensorflow-io-gcs-filesystem  0.23.1',\n",
              " 'tensorflow-metadata           1.6.0',\n",
              " 'tensorflow-probability        0.15.0',\n",
              " 'termcolor                     1.1.0',\n",
              " 'terminado                     0.13.1',\n",
              " 'testpath                      0.5.0',\n",
              " 'text-unidecode                1.3',\n",
              " 'textblob                      0.15.3',\n",
              " 'Theano-PyMC                   1.1.2',\n",
              " 'thinc                         7.4.0',\n",
              " 'threadpoolctl                 3.0.0',\n",
              " 'tifffile                      2021.11.2',\n",
              " 'toml                          0.10.2',\n",
              " 'tomli                         2.0.0',\n",
              " 'toolz                         0.11.2',\n",
              " 'torch                         1.10.0+cu111',\n",
              " 'torchaudio                    0.10.0+cu111',\n",
              " 'torchsummary                  1.5.1',\n",
              " 'torchtext                     0.11.0',\n",
              " 'torchvision                   0.11.1+cu111',\n",
              " 'tornado                       5.1.1',\n",
              " 'tqdm                          4.62.3',\n",
              " 'traitlets                     5.1.1',\n",
              " 'tweepy                        3.10.0',\n",
              " 'typeguard                     2.7.1',\n",
              " 'typing-extensions             3.10.0.2',\n",
              " 'tzlocal                       1.5.1',\n",
              " 'uritemplate                   3.0.1',\n",
              " 'urllib3                       1.24.3',\n",
              " 'vega-datasets                 0.9.0',\n",
              " 'wasabi                        0.9.0',\n",
              " 'wcwidth                       0.2.5',\n",
              " 'webencodings                  0.5.1',\n",
              " 'Werkzeug                      1.0.1',\n",
              " 'wheel                         0.37.1',\n",
              " 'widgetsnbextension            3.5.2',\n",
              " 'wordcloud                     1.5.0',\n",
              " 'wrapt                         1.13.3',\n",
              " 'xarray                        0.18.2',\n",
              " 'xgboost                       0.90',\n",
              " 'xkit                          0.0.0',\n",
              " 'xlrd                          1.1.0',\n",
              " 'xlwt                          1.3.0',\n",
              " 'yellowbrick                   1.3.post1',\n",
              " 'zict                          2.0.0',\n",
              " 'zipp                          3.7.0',\n",
              " '']"
            ]
          },
          "metadata": {},
          "execution_count": 2
        }
      ]
    },
    {
      "cell_type": "code",
      "source": [
        "run(\"uname -a\")"
      ],
      "metadata": {
        "colab": {
          "base_uri": "https://localhost:8080/",
          "height": 35
        },
        "id": "wUVxn-9Q3FDj",
        "outputId": "e6ea80af-329e-4734-e5b8-85e0ad88f4e8"
      },
      "execution_count": 3,
      "outputs": [
        {
          "output_type": "execute_result",
          "data": {
            "application/vnd.google.colaboratory.intrinsic+json": {
              "type": "string"
            },
            "text/plain": [
              "'Linux 45ce193b0005 5.4.144+ #1 SMP Tue Dec 7 09:58:10 PST 2021 x86_64 x86_64 x86_64 GNU/Linux\\n'"
            ]
          },
          "metadata": {},
          "execution_count": 3
        }
      ]
    },
    {
      "cell_type": "code",
      "source": [
        "run(\"cat /etc/issue\").split(\"\\n\")"
      ],
      "metadata": {
        "colab": {
          "base_uri": "https://localhost:8080/"
        },
        "id": "SmiGoE153Nbh",
        "outputId": "8836b86c-0d42-4f40-a478-2389758f82a6"
      },
      "execution_count": 4,
      "outputs": [
        {
          "output_type": "execute_result",
          "data": {
            "text/plain": [
              "['Ubuntu 18.04.5 LTS \\\\n \\\\l', '', '']"
            ]
          },
          "metadata": {},
          "execution_count": 4
        }
      ]
    },
    {
      "cell_type": "code",
      "source": [
        "run(\"id\")"
      ],
      "metadata": {
        "colab": {
          "base_uri": "https://localhost:8080/",
          "height": 35
        },
        "id": "BYA-g_1S3POY",
        "outputId": "67f566be-70b9-4da9-fbec-3baa6870061a"
      },
      "execution_count": 5,
      "outputs": [
        {
          "output_type": "execute_result",
          "data": {
            "application/vnd.google.colaboratory.intrinsic+json": {
              "type": "string"
            },
            "text/plain": [
              "'uid=0(root) gid=0(root) groups=0(root)\\n'"
            ]
          },
          "metadata": {},
          "execution_count": 5
        }
      ]
    },
    {
      "cell_type": "code",
      "source": [
        "run(\"lscpu\").split(\"\\n\")"
      ],
      "metadata": {
        "colab": {
          "base_uri": "https://localhost:8080/"
        },
        "id": "5ATUO9t33R83",
        "outputId": "cefe0f6d-7a6e-4dd4-cf8e-d692f82e87fb"
      },
      "execution_count": 6,
      "outputs": [
        {
          "output_type": "execute_result",
          "data": {
            "text/plain": [
              "['Architecture:        x86_64',\n",
              " 'CPU op-mode(s):      32-bit, 64-bit',\n",
              " 'Byte Order:          Little Endian',\n",
              " 'CPU(s):              2',\n",
              " 'On-line CPU(s) list: 0,1',\n",
              " 'Thread(s) per core:  2',\n",
              " 'Core(s) per socket:  1',\n",
              " 'Socket(s):           1',\n",
              " 'NUMA node(s):        1',\n",
              " 'Vendor ID:           GenuineIntel',\n",
              " 'CPU family:          6',\n",
              " 'Model:               79',\n",
              " 'Model name:          Intel(R) Xeon(R) CPU @ 2.20GHz',\n",
              " 'Stepping:            0',\n",
              " 'CPU MHz:             2199.998',\n",
              " 'BogoMIPS:            4399.99',\n",
              " 'Hypervisor vendor:   KVM',\n",
              " 'Virtualization type: full',\n",
              " 'L1d cache:           32K',\n",
              " 'L1i cache:           32K',\n",
              " 'L2 cache:            256K',\n",
              " 'L3 cache:            56320K',\n",
              " 'NUMA node0 CPU(s):   0,1',\n",
              " 'Flags:               fpu vme de pse tsc msr pae mce cx8 apic sep mtrr pge mca cmov pat pse36 clflush mmx fxsr sse sse2 ss ht syscall nx pdpe1gb rdtscp lm constant_tsc rep_good nopl xtopology nonstop_tsc cpuid tsc_known_freq pni pclmulqdq ssse3 fma cx16 pcid sse4_1 sse4_2 x2apic movbe popcnt aes xsave avx f16c rdrand hypervisor lahf_lm abm 3dnowprefetch invpcid_single ssbd ibrs ibpb stibp fsgsbase tsc_adjust bmi1 hle avx2 smep bmi2 erms invpcid rtm rdseed adx smap xsaveopt arat md_clear arch_capabilities',\n",
              " '']"
            ]
          },
          "metadata": {},
          "execution_count": 6
        }
      ]
    },
    {
      "cell_type": "code",
      "source": [
        "run(\"free -m\").split(\"\\n\")"
      ],
      "metadata": {
        "colab": {
          "base_uri": "https://localhost:8080/"
        },
        "id": "WqmOm7ox3gUu",
        "outputId": "5fe37b9c-5e8a-4f21-a787-66c216cba616"
      },
      "execution_count": 9,
      "outputs": [
        {
          "output_type": "execute_result",
          "data": {
            "text/plain": [
              "['              total        used        free      shared  buff/cache   available',\n",
              " 'Mem:          12991         626       10424           1        1940       12126',\n",
              " 'Swap:             0           0           0',\n",
              " '']"
            ]
          },
          "metadata": {},
          "execution_count": 9
        }
      ]
    },
    {
      "cell_type": "code",
      "source": [
        "from subprocess import check_output\n",
        "\n",
        "result = [item for item in check_output(\"env\", text=True).split(\"\\n\") if item]\n",
        "sorted(result, key = lambda x: x.split(\"=\")[0] )"
      ],
      "metadata": {
        "colab": {
          "base_uri": "https://localhost:8080/"
        },
        "id": "mbLED5MQ3n0x",
        "outputId": "82b1fba5-f889-4036-afaa-845d68a246d1"
      },
      "execution_count": 26,
      "outputs": [
        {
          "output_type": "execute_result",
          "data": {
            "text/plain": [
              "['CLICOLOR=1',\n",
              " 'CLOUDSDK_CONFIG=/content/.config',\n",
              " 'CLOUDSDK_PYTHON=python3',\n",
              " 'COLAB_GPU=0',\n",
              " 'CUDA_VERSION=11.1.1',\n",
              " 'CUDNN_VERSION=8.0.5.39',\n",
              " 'DATALAB_SETTINGS_OVERRIDES={\"kernelManagerProxyPort\":6000,\"kernelManagerProxyHost\":\"172.28.0.3\",\"jupyterArgs\":[\"--ip=\\\\\"172.28.0.2\\\\\"\"],\"debugAdapterMultiplexerPath\":\"/usr/local/bin/dap_multiplexer\",\"enableLsp\":true}',\n",
              " 'DEBIAN_FRONTEND=noninteractive',\n",
              " 'ENABLE_DIRECTORYPREFETCHER=1',\n",
              " 'ENV=/root/.bashrc',\n",
              " 'GCE_METADATA_TIMEOUT=0',\n",
              " 'GCS_READ_CACHE_BLOCK_SIZE_MB=16',\n",
              " 'GIT_PAGER=cat',\n",
              " 'GLIBCPP_FORCE_NEW=1',\n",
              " 'GLIBCXX_FORCE_NEW=1',\n",
              " 'HOME=/root',\n",
              " 'HOSTNAME=45ce193b0005',\n",
              " 'JPY_PARENT_PID=50',\n",
              " 'LANG=en_US.UTF-8',\n",
              " 'LAST_FORCED_REBUILD=20220127',\n",
              " 'LD_LIBRARY_PATH=/usr/local/nvidia/lib:/usr/local/nvidia/lib64',\n",
              " 'LD_PRELOAD=/usr/lib/x86_64-linux-gnu/libtcmalloc.so.4',\n",
              " 'LIBRARY_PATH=/usr/local/cuda/lib64/stubs',\n",
              " 'MPLBACKEND=module://ipykernel.pylab.backend_inline',\n",
              " 'NCCL_VERSION=2.7.8',\n",
              " 'NO_GCE_CHECK=True',\n",
              " 'NVIDIA_DRIVER_CAPABILITIES=compute,utility',\n",
              " 'NVIDIA_REQUIRE_CUDA=cuda>=11.1 brand=tesla,driver>=418,driver<419 brand=tesla,driver>=440,driver<441 brand=tesla,driver>=450,driver<451',\n",
              " 'NVIDIA_VISIBLE_DEVICES=all',\n",
              " 'OLDPWD=/',\n",
              " 'PAGER=cat',\n",
              " 'PATH=/usr/local/nvidia/bin:/usr/local/cuda/bin:/usr/local/sbin:/usr/local/bin:/usr/sbin:/usr/bin:/sbin:/bin:/tools/node/bin:/tools/google-cloud-sdk/bin:/opt/bin',\n",
              " 'PWD=/',\n",
              " 'PYDEVD_USE_FRAME_EVAL=NO',\n",
              " 'PYTHONPATH=/env/python',\n",
              " 'PYTHONWARNINGS=ignore:::pip._internal.cli.base_command',\n",
              " 'SHELL=/bin/bash',\n",
              " 'SHLVL=0',\n",
              " 'TBE_CREDS_ADDR=172.28.0.1:8008',\n",
              " 'TBE_EPHEM_CREDS_ADDR=172.28.0.1:8009',\n",
              " 'TERM=xterm-color',\n",
              " 'TF_FORCE_GPU_ALLOW_GROWTH=true',\n",
              " 'USE_EPHEM=1']"
            ]
          },
          "metadata": {},
          "execution_count": 26
        }
      ]
    },
    {
      "cell_type": "code",
      "source": [
        "run(\"df -h\").split(\"\\n\")"
      ],
      "metadata": {
        "colab": {
          "base_uri": "https://localhost:8080/"
        },
        "id": "MhSNe4wZ3Yhe",
        "outputId": "ca910e21-de8f-48e2-c086-6e6e3bbe0170"
      },
      "execution_count": 7,
      "outputs": [
        {
          "output_type": "execute_result",
          "data": {
            "text/plain": [
              "['Filesystem      Size  Used Avail Use% Mounted on',\n",
              " 'overlay         108G   42G   66G  39% /',\n",
              " 'tmpfs            64M     0   64M   0% /dev',\n",
              " 'shm             5.8G     0  5.8G   0% /dev/shm',\n",
              " '/dev/root       2.0G  1.2G  817M  59% /sbin/docker-init',\n",
              " 'tmpfs           6.4G   28K  6.4G   1% /var/colab',\n",
              " '/dev/sda1        81G   46G   36G  57% /etc/hosts',\n",
              " 'tmpfs           6.4G     0  6.4G   0% /proc/acpi',\n",
              " 'tmpfs           6.4G     0  6.4G   0% /proc/scsi',\n",
              " 'tmpfs           6.4G     0  6.4G   0% /sys/firmware',\n",
              " '']"
            ]
          },
          "metadata": {},
          "execution_count": 7
        }
      ]
    },
    {
      "cell_type": "code",
      "source": [
        "import psutil\n",
        "\n",
        "def get_process_list_sorted_by_mem_usage():\n",
        "    processes = []\n",
        "\n",
        "    for proc in psutil.process_iter():\n",
        "       try:\n",
        "           data = proc.as_dict(attrs=['pid', 'name', 'username'])\n",
        "           data['vms'] = round(proc.memory_info().vms / (1024 * 1024), 3)\n",
        "           processes.append(data);\n",
        "       except (psutil.NoSuchProcess, psutil.AccessDenied, psutil.ZombieProcess) as ex:\n",
        "           print(ex)\n",
        "    \n",
        "    return sorted(processes, key=lambda x: x['vms'], reverse=True)\n",
        "    \n",
        "get_process_list_sorted_by_mem_usage()"
      ],
      "metadata": {
        "colab": {
          "base_uri": "https://localhost:8080/"
        },
        "id": "ytKre3AU7ZGg",
        "outputId": "51ae43f2-5e26-4904-e6a0-2d30474354d4"
      },
      "execution_count": 32,
      "outputs": [
        {
          "output_type": "execute_result",
          "data": {
            "text/plain": [
              "[{'name': 'dap_multiplexer', 'pid': 51, 'username': 'root', 'vms': 691.848},\n",
              " {'name': 'python3', 'pid': 68, 'username': 'root', 'vms': 686.66},\n",
              " {'name': 'node', 'pid': 140, 'username': 'root', 'vms': 570.492},\n",
              " {'name': 'node', 'pid': 7, 'username': 'root', 'vms': 339.102},\n",
              " {'name': 'jupyter-noteboo', 'pid': 50, 'username': 'root', 'vms': 192.598},\n",
              " {'name': 'colab-fileshim.', 'pid': 37, 'username': 'root', 'vms': 156.652},\n",
              " {'name': 'python3', 'pid': 91, 'username': 'root', 'vms': 125.156},\n",
              " {'name': 'tail', 'pid': 17, 'username': 'root', 'vms': 35.047},\n",
              " {'name': 'docker-init', 'pid': 1, 'username': 'root', 'vms': 0.969},\n",
              " {'name': 'python3', 'pid': 36, 'username': 'root', 'vms': 0.0}]"
            ]
          },
          "metadata": {},
          "execution_count": 32
        }
      ]
    }
  ]
}